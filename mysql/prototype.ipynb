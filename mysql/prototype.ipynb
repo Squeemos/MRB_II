{
 "cells": [
  {
   "cell_type": "markdown",
   "metadata": {},
   "source": [
    "# Setup"
   ]
  },
  {
   "cell_type": "markdown",
   "metadata": {},
   "source": [
    "##### Set CWD"
   ]
  },
  {
   "cell_type": "code",
   "execution_count": 1,
   "metadata": {},
   "outputs": [
    {
     "name": "stdout",
     "output_type": "stream",
     "text": [
      "d:\\Documents\\A_DIGIPEN\\PersonalSVN\\Fall22SVN\\CSP400\\MRB_II\n"
     ]
    }
   ],
   "source": [
    "cd .."
   ]
  },
  {
   "cell_type": "markdown",
   "metadata": {},
   "source": [
    "##### Imports"
   ]
  },
  {
   "cell_type": "code",
   "execution_count": 5,
   "metadata": {},
   "outputs": [],
   "source": [
    "import pandas as pd\n",
    "\n",
    "from MySQLdb import _mysql\n",
    "\n",
    "import googleapiclient.discovery"
   ]
  },
  {
   "cell_type": "markdown",
   "metadata": {},
   "source": [
    "# Data"
   ]
  },
  {
   "cell_type": "code",
   "execution_count": 20,
   "metadata": {},
   "outputs": [],
   "source": [
    "def build_client(path=\"./secret_keys/\"):\n",
    "    \"\"\"Creates and returns the YouTube Data API client needed for requests.\"\"\"\n",
    "    print(\"building client...\")\n",
    "\n",
    "    api_key_path = path + \"api_key.txt\"\n",
    "\n",
    "    # API information\n",
    "    api_service_name = \"youtube\"\n",
    "    api_version = \"v3\"\n",
    "\n",
    "    # Read API key\n",
    "    with open(api_key_path, \"r\") as api_file:\n",
    "        api_key = api_file.read()\n",
    "\n",
    "    # Create the client with api_key\n",
    "    youtube = googleapiclient.discovery.build(\n",
    "        api_service_name, api_version, developerKey=api_key\n",
    "    )\n",
    "    print(\"client built\")\n",
    "\n",
    "    return youtube"
   ]
  },
  {
   "cell_type": "code",
   "execution_count": 21,
   "metadata": {},
   "outputs": [
    {
     "name": "stdout",
     "output_type": "stream",
     "text": [
      "building client...\n",
      "client built\n"
     ]
    }
   ],
   "source": [
    "youtube = build_client()\n"
   ]
  },
  {
   "cell_type": "markdown",
   "metadata": {},
   "source": [
    "# Database"
   ]
  },
  {
   "cell_type": "code",
   "execution_count": 23,
   "metadata": {},
   "outputs": [],
   "source": [
    "with open(\"mysql/mysql_key.txt\", \"r\") as file:\n",
    "    key = file.read()\n",
    "\n",
    "db = _mysql.connect(\"localhost\", \"eric\", key, \"test\")"
   ]
  },
  {
   "cell_type": "code",
   "execution_count": null,
   "metadata": {},
   "outputs": [],
   "source": []
  }
 ],
 "metadata": {
  "kernelspec": {
   "display_name": "Python 3.10.5 ('venv': venv)",
   "language": "python",
   "name": "python3"
  },
  "language_info": {
   "codemirror_mode": {
    "name": "ipython",
    "version": 3
   },
   "file_extension": ".py",
   "mimetype": "text/x-python",
   "name": "python",
   "nbconvert_exporter": "python",
   "pygments_lexer": "ipython3",
   "version": "3.10.5"
  },
  "orig_nbformat": 4,
  "vscode": {
   "interpreter": {
    "hash": "f61f6dfaa4a0e979e2a69e2dbae353cc2febd0a6accb968047731003335ef994"
   }
  }
 },
 "nbformat": 4,
 "nbformat_minor": 2
}
