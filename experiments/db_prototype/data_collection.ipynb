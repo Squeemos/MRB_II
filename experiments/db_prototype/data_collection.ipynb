{
 "cells": [
  {
   "cell_type": "markdown",
   "id": "7277305a",
   "metadata": {},
   "source": [
    "# Setup"
   ]
  },
  {
   "cell_type": "code",
   "execution_count": 13,
   "id": "9d8691da",
   "metadata": {},
   "outputs": [],
   "source": [
    "import os, json\n",
    "\n",
    "import googleapiclient.discovery\n",
    "import googleapiclient.errors"
   ]
  },
  {
   "cell_type": "markdown",
   "id": "caebe5cb",
   "metadata": {},
   "source": [
    "##### Create API Client"
   ]
  },
  {
   "cell_type": "code",
   "execution_count": 9,
   "id": "87840233",
   "metadata": {},
   "outputs": [],
   "source": [
    "with open(\"../../secret_keys/api_key.txt\") as file:\n",
    "    API_KEY = file.read().strip()\n",
    "\n",
    "api_service_name = \"youtube\"\n",
    "api_version = \"v3\"\n",
    "\n",
    "youtube = googleapiclient.discovery.build(\n",
    "    api_service_name,\n",
    "    api_version,\n",
    "    developerKey=API_KEY,\n",
    ")"
   ]
  },
  {
   "cell_type": "markdown",
   "id": "3f6f1f56",
   "metadata": {},
   "source": [
    "# Queries"
   ]
  },
  {
   "cell_type": "markdown",
   "id": "5d4b760a",
   "metadata": {},
   "source": [
    "##### Define Elements to Collect"
   ]
  },
  {
   "cell_type": "code",
   "execution_count": 7,
   "id": "bdf907d1",
   "metadata": {},
   "outputs": [
    {
     "data": {
      "text/plain": [
       "'id,snippet,contentDetails,status,statistics,player,topicDetails,recordingDetails,liveStreamingDetails,localizations'"
      ]
     },
     "execution_count": 7,
     "metadata": {},
     "output_type": "execute_result"
    }
   ],
   "source": [
    "# All parts (commented out user-only data)\n",
    "parts = [\n",
    "    \"id\",\n",
    "    \"snippet\",\n",
    "    \"contentDetails\",\n",
    "    \"status\",\n",
    "    \"statistics\",\n",
    "    \"player\",                # no\n",
    "    \"topicDetails\",\n",
    "    \"recordingDetails\",\n",
    "    \"liveStreamingDetails\",  # no\n",
    "    \"localizations\",\n",
    "    \n",
    "    #\"suggestions\",        # OAuth Only\n",
    "    #\"fileDetails\",        # OAuth Only\n",
    "    #\"processingDetails\",  # OAuth Only\n",
    "    \n",
    "]\n",
    "\n",
    "parts_str = \",\".join(parts)\n",
    "parts_str"
   ]
  },
  {
   "cell_type": "markdown",
   "id": "430bb1bd",
   "metadata": {},
   "source": [
    "##### Trending Request"
   ]
  },
  {
   "cell_type": "code",
   "execution_count": 10,
   "id": "4d6fbe5e",
   "metadata": {},
   "outputs": [],
   "source": [
    "request = youtube.videos().list(\n",
    "    part=parts,\n",
    "    chart=\"mostPopular\",\n",
    "    maxResults=50,\n",
    "    regionCode=\"US\",\n",
    "    prettyPrint=True\n",
    ")"
   ]
  },
  {
   "cell_type": "code",
   "execution_count": 11,
   "id": "fe109154",
   "metadata": {},
   "outputs": [],
   "source": [
    "#response = request.execute()"
   ]
  },
  {
   "cell_type": "code",
   "execution_count": 16,
   "id": "48b40afc",
   "metadata": {},
   "outputs": [],
   "source": [
    "with open(f\"data/trending1.json\", \"w\") as file:\n",
    "    json.dump(response, file, indent=4)"
   ]
  },
  {
   "cell_type": "markdown",
   "id": "2c57b8ff",
   "metadata": {},
   "source": [
    "##### Surfing Request"
   ]
  },
  {
   "cell_type": "code",
   "execution_count": 21,
   "id": "ce706e45",
   "metadata": {},
   "outputs": [],
   "source": [
    "request = youtube.search().list(\n",
    "    part=\"snippet,statistics\",\n",
    "    maxResults=50,\n",
    "    q=\"surfing\",\n",
    "    type=\"video\",\n",
    ")"
   ]
  },
  {
   "cell_type": "code",
   "execution_count": null,
   "id": "f11d1d21",
   "metadata": {},
   "outputs": [],
   "source": [
    "#response = request.execute()"
   ]
  },
  {
   "cell_type": "code",
   "execution_count": 24,
   "id": "16af3b7b",
   "metadata": {},
   "outputs": [],
   "source": [
    "with open(f\"data/search.json\", \"w\") as file:\n",
    "    json.dump(response, file, indent=4)"
   ]
  }
 ],
 "metadata": {
  "kernelspec": {
   "display_name": "Python [conda env:google-api]",
   "language": "python",
   "name": "conda-env-google-api-py"
  },
  "language_info": {
   "codemirror_mode": {
    "name": "ipython",
    "version": 3
   },
   "file_extension": ".py",
   "mimetype": "text/x-python",
   "name": "python",
   "nbconvert_exporter": "python",
   "pygments_lexer": "ipython3",
   "version": "3.10.4"
  }
 },
 "nbformat": 4,
 "nbformat_minor": 5
}
