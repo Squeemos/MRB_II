{
 "cells": [
  {
   "cell_type": "code",
   "execution_count": 1,
   "id": "28b0710f",
   "metadata": {},
   "outputs": [
    {
     "data": {
      "text/html": [
       "<style>.container { width:100% !important; }</style>"
      ],
      "text/plain": [
       "<IPython.core.display.HTML object>"
      ]
     },
     "metadata": {},
     "output_type": "display_data"
    }
   ],
   "source": [
    "from IPython.display import display, HTML\n",
    "display(HTML(\"<style>.container { width:100% !important; }</style>\")) # makes the notebook fill the whole window"
   ]
  },
  {
   "cell_type": "code",
   "execution_count": 2,
   "id": "50c8a554",
   "metadata": {},
   "outputs": [
    {
     "name": "stderr",
     "output_type": "stream",
     "text": [
      "/usr/local/lib/python3.10/site-packages/tqdm/auto.py:22: TqdmWarning: IProgress not found. Please update jupyter and ipywidgets. See https://ipywidgets.readthedocs.io/en/stable/user_install.html\n",
      "  from .autonotebook import tqdm as notebook_tqdm\n"
     ]
    }
   ],
   "source": [
    "import torch\n",
    "import torch.nn as nn\n",
    "import torch.nn.functional as F\n",
    "from torchvision import datasets, transforms\n",
    "import numpy as np\n",
    "import saliency.core as saliency\n",
    "\n",
    "# Local import\n",
    "from thumbnail_classification import Classifier"
   ]
  },
  {
   "cell_type": "code",
   "execution_count": 3,
   "id": "6a0d365c",
   "metadata": {},
   "outputs": [],
   "source": [
    "img_size = 32, 32\n",
    "\n",
    "transform = transforms.Compose([\n",
    "        transforms.ToTensor(),\n",
    "        #transforms.Normalize([0.5], [0.5]),\n",
    "        transforms.Resize(img_size),\n",
    "    ])"
   ]
  },
  {
   "cell_type": "code",
   "execution_count": 4,
   "id": "352f2f8c",
   "metadata": {},
   "outputs": [],
   "source": [
    "dataset = datasets.ImageFolder(\"./imgs/\", transform = transform)\n",
    "\n",
    "model = Classifier(device = torch.device(\"cpu\"), image_size = (3, *img_size), n_classes = len(dataset.classes))\n",
    "model.load_state_dict(torch.load(\"./model.pt\"))\n",
    "\n",
    "class_dict = {c:idx for idx, c in enumerate(dataset.classes)}\n",
    "imgs = torch.stack([x for x,_ in dataset])"
   ]
  },
  {
   "cell_type": "code",
   "execution_count": 5,
   "id": "bc8d0847",
   "metadata": {},
   "outputs": [],
   "source": [
    "def call_model_function(images, class_idx = None, expected_keys = None):\n",
    "    output = model(images)\n",
    "    output = F.softmax(output, dim = 1)\n",
    "    if saliency.base.INPUT_OUTPUT_GRADIENTS in expected_keys:\n",
    "        outputs = output[:, class_idx]\n",
    "        grads = torch.autograd.grad(outputs, images, grad_outputs = torch.ones_like(output))\n",
    "        grads = torch.movedim(grads[0], 1, 3)\n",
    "        gradients = grads.detach().numpy()\n",
    "        return gradients\n",
    "    else:\n",
    "        one_hot = torch.zeros_like(output)\n",
    "        one_hot[:, class_idx] = 1\n",
    "        model.zero_grad()\n",
    "        output.backward(gradient = one_hot, retain_graph = True)\n",
    "        return model.grads"
   ]
  },
  {
   "cell_type": "code",
   "execution_count": null,
   "id": "30904a52",
   "metadata": {},
   "outputs": [],
   "source": []
  }
 ],
 "metadata": {
  "kernelspec": {
   "display_name": "Python 3 (ipykernel)",
   "language": "python",
   "name": "python3"
  },
  "language_info": {
   "codemirror_mode": {
    "name": "ipython",
    "version": 3
   },
   "file_extension": ".py",
   "mimetype": "text/x-python",
   "name": "python",
   "nbconvert_exporter": "python",
   "pygments_lexer": "ipython3",
   "version": "3.10.6"
  }
 },
 "nbformat": 4,
 "nbformat_minor": 5
}
